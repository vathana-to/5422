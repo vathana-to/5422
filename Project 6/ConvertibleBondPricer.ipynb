{
 "cells": [
  {
   "cell_type": "markdown",
   "metadata": {},
   "source": [
    "# Convertible Bond Pricer Using QuantLib\n"
   ]
  },
  {
   "cell_type": "code",
   "execution_count": 22,
   "metadata": {},
   "outputs": [
    {
     "name": "stdout",
     "output_type": "stream",
     "text": [
      "Requirement already satisfied: QuantLib in /Users/jwang/opt/anaconda3/lib/python3.9/site-packages (1.29)\r\n"
     ]
    }
   ],
   "source": [
    "!pip install QuantLib"
   ]
  },
  {
   "cell_type": "code",
   "execution_count": 4,
   "metadata": {},
   "outputs": [],
   "source": [
    "import QuantLib as ql"
   ]
  },
  {
   "cell_type": "code",
   "execution_count": 5,
   "metadata": {},
   "outputs": [],
   "source": [
    "calculation_date = ql.Date(22,2,2022)\n",
    "ql.Settings.instance().evaluationDate = calculation_date"
   ]
  },
  {
   "cell_type": "code",
   "execution_count": 13,
   "metadata": {},
   "outputs": [],
   "source": [
    "# St. Mary Land & Exploration Company \n",
    "# Bloomberg ticker: SM 5.75 03/15/22 \n",
    "\n",
    "redemption = 100.00\n",
    "face_amount = 100.0\n",
    "spot_price = 3.02\n",
    "conversion_price = 7.068\n",
    "conversion_ratio = 14.14827\n",
    "\n",
    "issue_date = ql.Date(30,1,2013)        \n",
    "maturity_date = ql.Date(1,2,2033)\n",
    "\n",
    "settlement_days = 2\n",
    "calendar = ql.UnitedStates(ql.UnitedStates.GovernmentBond)\n",
    "coupon = 0.03\n",
    "frequency = ql.Semiannual\n",
    "tenor = ql.Period(frequency)\n",
    "\n",
    "day_count = ql.Thirty360(ql.Thirty360.BondBasis)\n",
    "accrual_convention = ql.Unadjusted\n",
    "payment_convention = ql.Unadjusted\n",
    "\n",
    "call_dates = [ql.Date(1,2,2019)]\n",
    "call_price = 100.0\n",
    "put_dates = [ql.Date(1,2,2019), ql.Date(1,2,2023), ql.Date(1,2,2028)]\n",
    "put_price = 100.0\n",
    "\n",
    "# assumptions\n",
    "dividend_yield = 0\n",
    "credit_spread_rate = 0.04\n",
    "risk_free_rate = 0.04\n",
    "volatility = 0.30"
   ]
  },
  {
   "cell_type": "code",
   "execution_count": 14,
   "metadata": {},
   "outputs": [],
   "source": [
    "callability_schedule = ql.CallabilitySchedule()\n",
    "\n",
    "\n",
    "for call_date in call_dates:\n",
    "   callability_price  = ql.BondPrice(call_price, \n",
    "                                            ql.BondPrice.Clean)\n",
    "   callability_schedule.append(ql.Callability(callability_price, \n",
    "                                       ql.Callability.Call,\n",
    "                                       call_date)\n",
    "                        )\n",
    "    \n",
    "for put_date in put_dates:\n",
    "    puttability_price = ql.BondPrice(put_price, \n",
    "                                            ql.BondPrice.Clean)\n",
    "    callability_schedule.append(ql.Callability(puttability_price,\n",
    "                                               ql.Callability.Put,\n",
    "                                               put_date))"
   ]
  },
  {
   "cell_type": "code",
   "execution_count": 15,
   "metadata": {},
   "outputs": [],
   "source": [
    "dividend_schedule = ql.DividendSchedule() # No dividends\n",
    "dividend_amount = dividend_yield*spot_price\n",
    "next_dividend_date = ql.Date(1,12,2004)\n",
    "dividend_amount = spot_price*dividend_yield\n",
    "for i in range(4):\n",
    "    date = calendar.advance(next_dividend_date, 1, ql.Years)\n",
    "    dividend_schedule.append(\n",
    "        ql.FixedDividend(dividend_amount, date)\n",
    "    )"
   ]
  },
  {
   "cell_type": "code",
   "execution_count": 18,
   "metadata": {},
   "outputs": [],
   "source": [
    "schedule = ql.Schedule(issue_date, maturity_date, tenor,\n",
    "                       calendar, accrual_convention, accrual_convention,\n",
    "                       ql.DateGeneration.Backward, False)\n",
    "\n",
    "credit_spread_handle = ql.QuoteHandle(ql.SimpleQuote(credit_spread_rate))\n",
    "exercise = ql.AmericanExercise(calculation_date, maturity_date)\n",
    "\n",
    "convertible_bond = ql.ConvertibleFixedCouponBond(exercise,\n",
    "                                                 conversion_ratio,\n",
    "                                                 callability_schedule, \n",
    "                                                 issue_date,\n",
    "                                                 settlement_days,\n",
    "                                                 [coupon],\n",
    "                                                 day_count,\n",
    "                                                 schedule,\n",
    "                                                 redemption)"
   ]
  },
  {
   "cell_type": "code",
   "execution_count": 19,
   "metadata": {},
   "outputs": [],
   "source": [
    "spot_price_handle = ql.QuoteHandle(ql.SimpleQuote(spot_price))\n",
    "yield_ts_handle = ql.YieldTermStructureHandle(\n",
    "    ql.FlatForward(calculation_date, risk_free_rate, day_count)\n",
    ")\n",
    "dividend_ts_handle = ql.YieldTermStructureHandle(\n",
    "    ql.FlatForward(calculation_date, dividend_yield, day_count)\n",
    ")\n",
    "volatility_ts_handle = ql.BlackVolTermStructureHandle(\n",
    "    ql.BlackConstantVol(calculation_date, calendar,volatility, day_count)\n",
    ")\n",
    "\n",
    "bsm_process = ql.BlackScholesMertonProcess(spot_price_handle, \n",
    "                                           dividend_ts_handle,\n",
    "                                           yield_ts_handle,\n",
    "                                           volatility_ts_handle)"
   ]
  },
  {
   "cell_type": "code",
   "execution_count": 20,
   "metadata": {},
   "outputs": [],
   "source": [
    "time_steps = 1000\n",
    "engine = ql.BinomialConvertibleEngine(bsm_process, \"crr\", time_steps, credit_spread_handle, dividend_schedule)"
   ]
  },
  {
   "cell_type": "code",
   "execution_count": 21,
   "metadata": {},
   "outputs": [
    {
     "name": "stdout",
     "output_type": "stream",
     "text": [
      "NPV  96.59357075153648\n",
      "Accrued  0.19166666666665666\n"
     ]
    }
   ],
   "source": [
    "convertible_bond.setPricingEngine(engine)\n",
    "print (\"NPV \", convertible_bond.NPV())\n",
    "print (\"Accrued \", convertible_bond.accruedAmount())"
   ]
  },
  {
   "cell_type": "markdown",
   "metadata": {},
   "source": [
    "# Greeks Calculation"
   ]
  },
  {
   "cell_type": "code",
   "execution_count": null,
   "metadata": {},
   "outputs": [],
   "source": []
  }
 ],
 "metadata": {
  "interpreter": {
   "hash": "4341c959026c26329350e7155c22fcc07ba6d7e3b6c8669131d138e8e858f11b"
  },
  "kernelspec": {
   "display_name": "Python 3 (ipykernel)",
   "language": "python",
   "name": "python3"
  },
  "language_info": {
   "codemirror_mode": {
    "name": "ipython",
    "version": 3
   },
   "file_extension": ".py",
   "mimetype": "text/x-python",
   "name": "python",
   "nbconvert_exporter": "python",
   "pygments_lexer": "ipython3",
   "version": "3.9.13"
  }
 },
 "nbformat": 4,
 "nbformat_minor": 4
}
